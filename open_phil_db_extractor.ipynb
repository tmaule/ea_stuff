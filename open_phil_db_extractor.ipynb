{
 "metadata": {
  "language_info": {
   "codemirror_mode": {
    "name": "ipython",
    "version": 3
   },
   "file_extension": ".py",
   "mimetype": "text/x-python",
   "name": "python",
   "nbconvert_exporter": "python",
   "pygments_lexer": "ipython3",
   "version": "3.8.5-final"
  },
  "orig_nbformat": 2,
  "kernelspec": {
   "name": "python3",
   "display_name": "Python 3.8.5 64-bit (conda)",
   "metadata": {
    "interpreter": {
     "hash": "59864de7daacbb36c5d6e41db4b47db4836ebc85bb5046376ed6e08f34005ee4"
    }
   }
  }
 },
 "nbformat": 4,
 "nbformat_minor": 2,
 "cells": [
  {
   "cell_type": "code",
   "execution_count": 54,
   "metadata": {
    "tags": []
   },
   "outputs": [
    {
     "output_type": "execute_result",
     "data": {
      "text/plain": [
       "                                      Organization Name      Amount  \\\n",
       "Date                                                                  \n",
       "2021-02-01                        Crustacean Compassion    786830.0   \n",
       "2021-01-01  Center for Security and Emerging Technology   8000000.0   \n",
       "2021-01-01                                  UC Berkeley  11355246.0   \n",
       "2021-01-01     Berryville Institute of Machine Learning    150000.0   \n",
       "2020-12-01                        University of Glasgow    109552.0   \n",
       "...                                                 ...         ...   \n",
       "2012-12-01                                 GiveDirectly    500000.0   \n",
       "2012-12-01           Schistosomiasis Control Initiative    250000.0   \n",
       "2012-12-01                   Against Malaria Foundation   1250000.0   \n",
       "2012-08-01            Population Services International   1000000.0   \n",
       "2012-07-01                United States Cochrane Center    100000.0   \n",
       "\n",
       "                Cause Area  \n",
       "Date                        \n",
       "2021-02-01  Animal Welfare  \n",
       "2021-01-01     Longtermism  \n",
       "2021-01-01     Longtermism  \n",
       "2021-01-01     Longtermism  \n",
       "2020-12-01  Animal Welfare  \n",
       "...                    ...  \n",
       "2012-12-01   Global Health  \n",
       "2012-12-01   Global Health  \n",
       "2012-12-01   Global Health  \n",
       "2012-08-01            Meta  \n",
       "2012-07-01            Meta  \n",
       "\n",
       "[546 rows x 3 columns]"
      ],
      "text/html": "<div>\n<style scoped>\n    .dataframe tbody tr th:only-of-type {\n        vertical-align: middle;\n    }\n\n    .dataframe tbody tr th {\n        vertical-align: top;\n    }\n\n    .dataframe thead th {\n        text-align: right;\n    }\n</style>\n<table border=\"1\" class=\"dataframe\">\n  <thead>\n    <tr style=\"text-align: right;\">\n      <th></th>\n      <th>Organization Name</th>\n      <th>Amount</th>\n      <th>Cause Area</th>\n    </tr>\n    <tr>\n      <th>Date</th>\n      <th></th>\n      <th></th>\n      <th></th>\n    </tr>\n  </thead>\n  <tbody>\n    <tr>\n      <th>2021-02-01</th>\n      <td>Crustacean Compassion</td>\n      <td>786830.0</td>\n      <td>Animal Welfare</td>\n    </tr>\n    <tr>\n      <th>2021-01-01</th>\n      <td>Center for Security and Emerging Technology</td>\n      <td>8000000.0</td>\n      <td>Longtermism</td>\n    </tr>\n    <tr>\n      <th>2021-01-01</th>\n      <td>UC Berkeley</td>\n      <td>11355246.0</td>\n      <td>Longtermism</td>\n    </tr>\n    <tr>\n      <th>2021-01-01</th>\n      <td>Berryville Institute of Machine Learning</td>\n      <td>150000.0</td>\n      <td>Longtermism</td>\n    </tr>\n    <tr>\n      <th>2020-12-01</th>\n      <td>University of Glasgow</td>\n      <td>109552.0</td>\n      <td>Animal Welfare</td>\n    </tr>\n    <tr>\n      <th>...</th>\n      <td>...</td>\n      <td>...</td>\n      <td>...</td>\n    </tr>\n    <tr>\n      <th>2012-12-01</th>\n      <td>GiveDirectly</td>\n      <td>500000.0</td>\n      <td>Global Health</td>\n    </tr>\n    <tr>\n      <th>2012-12-01</th>\n      <td>Schistosomiasis Control Initiative</td>\n      <td>250000.0</td>\n      <td>Global Health</td>\n    </tr>\n    <tr>\n      <th>2012-12-01</th>\n      <td>Against Malaria Foundation</td>\n      <td>1250000.0</td>\n      <td>Global Health</td>\n    </tr>\n    <tr>\n      <th>2012-08-01</th>\n      <td>Population Services International</td>\n      <td>1000000.0</td>\n      <td>Meta</td>\n    </tr>\n    <tr>\n      <th>2012-07-01</th>\n      <td>United States Cochrane Center</td>\n      <td>100000.0</td>\n      <td>Meta</td>\n    </tr>\n  </tbody>\n</table>\n<p>546 rows × 3 columns</p>\n</div>"
     },
     "metadata": {},
     "execution_count": 54
    }
   ],
   "source": [
    "import pandas as pd\n",
    "import seaborn as sns; sns.set()\n",
    "grants = pd.read_csv('open_phil_grants_db_raw.csv', usecols=['Organization Name', 'Focus Area', 'Amount', 'Date'], index_col='Date', parse_dates=True).dropna()\n",
    "# Map their terminology to standard EA cause areas\n",
    "cause_map = {'Global Health & Development':'Global Health', 'Farm Animal Welfare':'Animal Welfare', 'Global Catastrophic Risks':'Longtermism', \n",
    "                'Potential Risks from Advanced Artificial Intelligence': 'Longtermism', 'Biosecurity and Pandemic Preparedness':'Longtermism', 'Other areas':'Meta'}\n",
    "mistake_map = {'Eurogroup For Animals':'Eurogroup for Animals', 'Mercy For Animals':'Mercy for Animals', 'IDInsight':'IDinsight', 'IDinsight ':'IDinsight'}\n",
    "cause_area = list() #store true labels\n",
    "for i in range(grants.shape[0]):\n",
    "    fa = grants.iloc[i, 1] #focus area for this row\n",
    "    org = grants.iloc[i, 0] #org name\n",
    "    if fa in cause_map:\n",
    "        cause_area.append(cause_map[fa])\n",
    "    else:\n",
    "        cause_area.append('X') #not an EA cause area\n",
    "    if org == 'GiveWell':\n",
    "        cause_area[-1] = 'Meta' #supporting GW belongs in Meta, not Global Health\n",
    "    if org in mistake_map:\n",
    "        # print(grants.iloc[i, 0])\n",
    "        grants.iloc[i, 0] = mistake_map[org] #Swap out any mistakes in the OP database\n",
    "        # print(grants.iloc[i, 0])\n",
    "\n",
    "grants['Cause Area'] = cause_area\n",
    "# Create a df of all 'EA' grants\n",
    "ea_grants = grants[grants['Cause Area'] != 'X'].drop('Focus Area', axis=1)\n",
    "ea_grants"
   ]
  },
  {
   "cell_type": "code",
   "execution_count": 55,
   "metadata": {},
   "outputs": [
    {
     "output_type": "execute_result",
     "data": {
      "text/plain": [
       "(255,)"
      ]
     },
     "metadata": {},
     "execution_count": 55
    }
   ],
   "source": [
    "unique_orgs = ea_grants['Organization Name'].unique()\n",
    "unique_orgs.shape"
   ]
  },
  {
   "cell_type": "code",
   "execution_count": 56,
   "metadata": {},
   "outputs": [
    {
     "output_type": "execute_result",
     "data": {
      "text/plain": [
       "(261,)"
      ]
     },
     "metadata": {},
     "execution_count": 56
    }
   ],
   "source": [
    "# 546 'EA grants', 265 unique, some of which are e.g. universities rather than charitable orgs\n",
    "ea_grants['org_cause'] = ea_grants.apply(lambda x: x['Organization Name'] + '|' + x['Cause Area'], axis=1)\n",
    "unique_grants = pd.Series(ea_grants.org_cause.unique())\n",
    "unique_grants.shape"
   ]
  },
  {
   "cell_type": "code",
   "execution_count": 17,
   "metadata": {},
   "outputs": [],
   "source": [
    "path = 'C:\\\\Users\\\\tmaul\\\\Documents\\\\GitHub\\\\ea_stuff\\\\IRS_data\\\\'\n",
    "ea_grants.to_csv(path+'op_ea_grants.csv')"
   ]
  },
  {
   "cell_type": "code",
   "execution_count": 22,
   "metadata": {},
   "outputs": [],
   "source": [
    "unique_grants.to_csv(path+'org_map_starter.csv')"
   ]
  }
 ]
}